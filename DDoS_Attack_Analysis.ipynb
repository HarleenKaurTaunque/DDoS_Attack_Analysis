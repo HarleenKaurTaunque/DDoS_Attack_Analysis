{
  "nbformat": 4,
  "nbformat_minor": 0,
  "metadata": {
    "language_info": {
      "codemirror_mode": {
        "name": "ipython",
        "version": 3
      },
      "file_extension": ".py",
      "mimetype": "text/x-python",
      "name": "python",
      "nbconvert_exporter": "python",
      "pygments_lexer": "ipython3",
      "version": "3.7.4-final"
    },
    "orig_nbformat": 2,
    "kernelspec": {
      "name": "python37464bitbaseconda331d90ae57944b9b8014e2ebb0c9bcc2",
      "display_name": "Python 3.7.4 64-bit ('base': conda)"
    },
    "colab": {
      "name": "DDoS_Attack_Analysis.ipynb",
      "provenance": [],
      "collapsed_sections": [],
      "include_colab_link": true
    }
  },
  "cells": [
    {
      "cell_type": "markdown",
      "metadata": {
        "id": "view-in-github",
        "colab_type": "text"
      },
      "source": [
        "<a href=\"https://colab.research.google.com/github/somesh636/DDoS_Attack_Analysis/blob/master/DDoS_Attack_Analysis.ipynb\" target=\"_parent\"><img src=\"https://colab.research.google.com/assets/colab-badge.svg\" alt=\"Open In Colab\"/></a>"
      ]
    },
    {
      "cell_type": "code",
      "metadata": {
        "id": "p5YQc2qFWgJi",
        "colab_type": "code",
        "colab": {}
      },
      "source": [
        "import pandas as pd \n",
        "import numpy as np \n"
      ],
      "execution_count": 0,
      "outputs": []
    },
    {
      "cell_type": "code",
      "metadata": {
        "id": "TdKGbM0nWhsB",
        "colab_type": "code",
        "colab": {
          "base_uri": "https://localhost:8080/",
          "height": 34
        },
        "outputId": "c8a673e4-71f0-4857-8b6f-c0ec7a802655"
      },
      "source": [
        "from google.colab import drive\n",
        "drive.mount('/content/drive')"
      ],
      "execution_count": 3,
      "outputs": [
        {
          "output_type": "stream",
          "text": [
            "Drive already mounted at /content/drive; to attempt to forcibly remount, call drive.mount(\"/content/drive\", force_remount=True).\n"
          ],
          "name": "stdout"
        }
      ]
    },
    {
      "cell_type": "code",
      "metadata": {
        "id": "GVrj244qWgJ3",
        "colab_type": "code",
        "colab": {
          "base_uri": "https://localhost:8080/",
          "height": 52
        },
        "outputId": "dabb1b5b-2b88-447d-e622-c32c1fdfd4d4"
      },
      "source": [
        "portmap_data = pd.read_csv('/content/drive/My Drive/DDos_Dataset/Portmap.csv')\n",
        "udplag_data = pd.read_csv('/content/drive/My Drive/DDos_Dataset/UDPLag.csv')"
      ],
      "execution_count": 5,
      "outputs": [
        {
          "output_type": "stream",
          "text": [
            "/usr/local/lib/python3.6/dist-packages/IPython/core/interactiveshell.py:2718: DtypeWarning: Columns (85) have mixed types.Specify dtype option on import or set low_memory=False.\n",
            "  interactivity=interactivity, compiler=compiler, result=result)\n"
          ],
          "name": "stderr"
        }
      ]
    },
    {
      "cell_type": "code",
      "metadata": {
        "id": "NuxMGnNLWgKK",
        "colab_type": "code",
        "colab": {
          "base_uri": "https://localhost:8080/",
          "height": 34
        },
        "outputId": "3daea67c-8953-4dc7-c470-d193ad4c21d9"
      },
      "source": [
        "portmap_data.shape"
      ],
      "execution_count": 6,
      "outputs": [
        {
          "output_type": "execute_result",
          "data": {
            "text/plain": [
              "(191694, 88)"
            ]
          },
          "metadata": {
            "tags": []
          },
          "execution_count": 6
        }
      ]
    },
    {
      "cell_type": "code",
      "metadata": {
        "id": "rehwilwnWgKX",
        "colab_type": "code",
        "colab": {
          "base_uri": "https://localhost:8080/",
          "height": 34
        },
        "outputId": "e276f06b-da4a-4032-c4fe-5994fa0ab617"
      },
      "source": [
        "udplag_data.shape"
      ],
      "execution_count": 7,
      "outputs": [
        {
          "output_type": "execute_result",
          "data": {
            "text/plain": [
              "(725165, 88)"
            ]
          },
          "metadata": {
            "tags": []
          },
          "execution_count": 7
        }
      ]
    },
    {
      "cell_type": "code",
      "metadata": {
        "id": "ELfQy9fRWgKj",
        "colab_type": "code",
        "colab": {
          "base_uri": "https://localhost:8080/",
          "height": 1000
        },
        "outputId": "755acfda-3ea8-4cdf-e8f6-6682c8440ab4"
      },
      "source": [
        "print(\"UDPLag: \\n\",udplag_data.columns)\n",
        "print(\"PortMap: \\n\", portmap_data.columns)"
      ],
      "execution_count": 8,
      "outputs": [
        {
          "output_type": "stream",
          "text": [
            "UDPLag: \n",
            " Index(['Unnamed: 0', 'Flow ID', ' Source IP', ' Source Port',\n",
            "       ' Destination IP', ' Destination Port', ' Protocol', ' Timestamp',\n",
            "       ' Flow Duration', ' Total Fwd Packets', ' Total Backward Packets',\n",
            "       'Total Length of Fwd Packets', ' Total Length of Bwd Packets',\n",
            "       ' Fwd Packet Length Max', ' Fwd Packet Length Min',\n",
            "       ' Fwd Packet Length Mean', ' Fwd Packet Length Std',\n",
            "       'Bwd Packet Length Max', ' Bwd Packet Length Min',\n",
            "       ' Bwd Packet Length Mean', ' Bwd Packet Length Std', 'Flow Bytes/s',\n",
            "       ' Flow Packets/s', ' Flow IAT Mean', ' Flow IAT Std', ' Flow IAT Max',\n",
            "       ' Flow IAT Min', 'Fwd IAT Total', ' Fwd IAT Mean', ' Fwd IAT Std',\n",
            "       ' Fwd IAT Max', ' Fwd IAT Min', 'Bwd IAT Total', ' Bwd IAT Mean',\n",
            "       ' Bwd IAT Std', ' Bwd IAT Max', ' Bwd IAT Min', 'Fwd PSH Flags',\n",
            "       ' Bwd PSH Flags', ' Fwd URG Flags', ' Bwd URG Flags',\n",
            "       ' Fwd Header Length', ' Bwd Header Length', 'Fwd Packets/s',\n",
            "       ' Bwd Packets/s', ' Min Packet Length', ' Max Packet Length',\n",
            "       ' Packet Length Mean', ' Packet Length Std', ' Packet Length Variance',\n",
            "       'FIN Flag Count', ' SYN Flag Count', ' RST Flag Count',\n",
            "       ' PSH Flag Count', ' ACK Flag Count', ' URG Flag Count',\n",
            "       ' CWE Flag Count', ' ECE Flag Count', ' Down/Up Ratio',\n",
            "       ' Average Packet Size', ' Avg Fwd Segment Size',\n",
            "       ' Avg Bwd Segment Size', ' Fwd Header Length.1', 'Fwd Avg Bytes/Bulk',\n",
            "       ' Fwd Avg Packets/Bulk', ' Fwd Avg Bulk Rate', ' Bwd Avg Bytes/Bulk',\n",
            "       ' Bwd Avg Packets/Bulk', 'Bwd Avg Bulk Rate', 'Subflow Fwd Packets',\n",
            "       ' Subflow Fwd Bytes', ' Subflow Bwd Packets', ' Subflow Bwd Bytes',\n",
            "       'Init_Win_bytes_forward', ' Init_Win_bytes_backward',\n",
            "       ' act_data_pkt_fwd', ' min_seg_size_forward', 'Active Mean',\n",
            "       ' Active Std', ' Active Max', ' Active Min', 'Idle Mean', ' Idle Std',\n",
            "       ' Idle Max', ' Idle Min', 'SimillarHTTP', ' Inbound', ' Label'],\n",
            "      dtype='object')\n",
            "PortMap: \n",
            " Index(['Unnamed: 0', 'Flow ID', ' Source IP', ' Source Port',\n",
            "       ' Destination IP', ' Destination Port', ' Protocol', ' Timestamp',\n",
            "       ' Flow Duration', ' Total Fwd Packets', ' Total Backward Packets',\n",
            "       'Total Length of Fwd Packets', ' Total Length of Bwd Packets',\n",
            "       ' Fwd Packet Length Max', ' Fwd Packet Length Min',\n",
            "       ' Fwd Packet Length Mean', ' Fwd Packet Length Std',\n",
            "       'Bwd Packet Length Max', ' Bwd Packet Length Min',\n",
            "       ' Bwd Packet Length Mean', ' Bwd Packet Length Std', 'Flow Bytes/s',\n",
            "       ' Flow Packets/s', ' Flow IAT Mean', ' Flow IAT Std', ' Flow IAT Max',\n",
            "       ' Flow IAT Min', 'Fwd IAT Total', ' Fwd IAT Mean', ' Fwd IAT Std',\n",
            "       ' Fwd IAT Max', ' Fwd IAT Min', 'Bwd IAT Total', ' Bwd IAT Mean',\n",
            "       ' Bwd IAT Std', ' Bwd IAT Max', ' Bwd IAT Min', 'Fwd PSH Flags',\n",
            "       ' Bwd PSH Flags', ' Fwd URG Flags', ' Bwd URG Flags',\n",
            "       ' Fwd Header Length', ' Bwd Header Length', 'Fwd Packets/s',\n",
            "       ' Bwd Packets/s', ' Min Packet Length', ' Max Packet Length',\n",
            "       ' Packet Length Mean', ' Packet Length Std', ' Packet Length Variance',\n",
            "       'FIN Flag Count', ' SYN Flag Count', ' RST Flag Count',\n",
            "       ' PSH Flag Count', ' ACK Flag Count', ' URG Flag Count',\n",
            "       ' CWE Flag Count', ' ECE Flag Count', ' Down/Up Ratio',\n",
            "       ' Average Packet Size', ' Avg Fwd Segment Size',\n",
            "       ' Avg Bwd Segment Size', ' Fwd Header Length.1', 'Fwd Avg Bytes/Bulk',\n",
            "       ' Fwd Avg Packets/Bulk', ' Fwd Avg Bulk Rate', ' Bwd Avg Bytes/Bulk',\n",
            "       ' Bwd Avg Packets/Bulk', 'Bwd Avg Bulk Rate', 'Subflow Fwd Packets',\n",
            "       ' Subflow Fwd Bytes', ' Subflow Bwd Packets', ' Subflow Bwd Bytes',\n",
            "       'Init_Win_bytes_forward', ' Init_Win_bytes_backward',\n",
            "       ' act_data_pkt_fwd', ' min_seg_size_forward', 'Active Mean',\n",
            "       ' Active Std', ' Active Max', ' Active Min', 'Idle Mean', ' Idle Std',\n",
            "       ' Idle Max', ' Idle Min', 'SimillarHTTP', ' Inbound', ' Label'],\n",
            "      dtype='object')\n"
          ],
          "name": "stdout"
        }
      ]
    },
    {
      "cell_type": "code",
      "metadata": {
        "id": "fuPcor1UYb7c",
        "colab_type": "code",
        "colab": {}
      },
      "source": [
        ""
      ],
      "execution_count": 0,
      "outputs": []
    }
  ]
}